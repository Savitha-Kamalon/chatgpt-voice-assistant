{
  "nbformat": 4,
  "nbformat_minor": 0,
  "metadata": {
    "colab": {
      "provenance": [],
      "authorship_tag": "ABX9TyPd3CasyRZWIhoyRFEjDOHv",
      "include_colab_link": true
    },
    "kernelspec": {
      "name": "python3",
      "display_name": "Python 3"
    },
    "language_info": {
      "name": "python"
    },
    "accelerator": "GPU",
    "gpuClass": "standard"
  },
  "cells": [
    {
      "cell_type": "markdown",
      "metadata": {
        "id": "view-in-github",
        "colab_type": "text"
      },
      "source": [
        "<a href=\"https://colab.research.google.com/github/Savitha-Kamalon/chatgpt-voice-assistant/blob/main/Assistant.ipynb\" target=\"_parent\"><img src=\"https://colab.research.google.com/assets/colab-badge.svg\" alt=\"Open In Colab\"/></a>"
      ]
    },
    {
      "cell_type": "code",
      "execution_count": 1,
      "metadata": {
        "id": "LhL5DEnGprJi"
      },
      "outputs": [],
      "source": [
        "!pip install -q TTS"
      ]
    },
    {
      "cell_type": "code",
      "source": [
        "!pip install -U numpy==1.21"
      ],
      "metadata": {
        "colab": {
          "base_uri": "https://localhost:8080/"
        },
        "id": "ZefM-RAmpucu",
        "outputId": "ac336c31-c6bd-4f73-aa2c-db873705c776"
      },
      "execution_count": 2,
      "outputs": [
        {
          "output_type": "stream",
          "name": "stdout",
          "text": [
            "Looking in indexes: https://pypi.org/simple, https://us-python.pkg.dev/colab-wheels/public/simple/\n",
            "Collecting numpy==1.21\n",
            "  Using cached numpy-1.21.0-cp39-cp39-manylinux_2_12_x86_64.manylinux2010_x86_64.whl (15.7 MB)\n",
            "Installing collected packages: numpy\n",
            "  Attempting uninstall: numpy\n",
            "    Found existing installation: numpy 1.21.6\n",
            "    Uninstalling numpy-1.21.6:\n",
            "      Successfully uninstalled numpy-1.21.6\n",
            "\u001b[31mERROR: pip's dependency resolver does not currently take into account all the packages that are installed. This behaviour is the source of the following dependency conflicts.\n",
            "tts 0.11.1 requires numpy==1.21.6; python_version < \"3.10\", but you have numpy 1.21.0 which is incompatible.\u001b[0m\u001b[31m\n",
            "\u001b[0mSuccessfully installed numpy-1.21.0\n"
          ]
        }
      ]
    },
    {
      "cell_type": "code",
      "source": [
        "!pip install -q openai-whisper\n",
        "!pip install -q gradio\n",
        "!pip install -q openai"
      ],
      "metadata": {
        "id": "rihZt_oupugm"
      },
      "execution_count": 3,
      "outputs": []
    },
    {
      "cell_type": "code",
      "source": [
        "import whisper\n",
        "import openai\n",
        "import gradio as gr\n",
        "from TTS.api import TTS"
      ],
      "metadata": {
        "id": "D0UqozKQpuj-"
      },
      "execution_count": 4,
      "outputs": []
    },
    {
      "cell_type": "code",
      "source": [
        "TTS.list_models()"
      ],
      "metadata": {
        "colab": {
          "base_uri": "https://localhost:8080/"
        },
        "id": "vgtrSC36q3-a",
        "outputId": "ddc244ae-9b1a-4e64-ce10-befdb96dc664"
      },
      "execution_count": 5,
      "outputs": [
        {
          "output_type": "execute_result",
          "data": {
            "text/plain": [
              "['tts_models/multilingual/multi-dataset/your_tts',\n",
              " 'tts_models/bg/cv/vits',\n",
              " 'tts_models/cs/cv/vits',\n",
              " 'tts_models/da/cv/vits',\n",
              " 'tts_models/et/cv/vits',\n",
              " 'tts_models/ga/cv/vits',\n",
              " 'tts_models/en/ek1/tacotron2',\n",
              " 'tts_models/en/ljspeech/tacotron2-DDC',\n",
              " 'tts_models/en/ljspeech/tacotron2-DDC_ph',\n",
              " 'tts_models/en/ljspeech/glow-tts',\n",
              " 'tts_models/en/ljspeech/speedy-speech',\n",
              " 'tts_models/en/ljspeech/tacotron2-DCA',\n",
              " 'tts_models/en/ljspeech/vits',\n",
              " 'tts_models/en/ljspeech/vits--neon',\n",
              " 'tts_models/en/ljspeech/fast_pitch',\n",
              " 'tts_models/en/ljspeech/overflow',\n",
              " 'tts_models/en/ljspeech/neural_hmm',\n",
              " 'tts_models/en/vctk/vits',\n",
              " 'tts_models/en/vctk/fast_pitch',\n",
              " 'tts_models/en/sam/tacotron-DDC',\n",
              " 'tts_models/en/blizzard2013/capacitron-t2-c50',\n",
              " 'tts_models/en/blizzard2013/capacitron-t2-c150_v2',\n",
              " 'tts_models/es/mai/tacotron2-DDC',\n",
              " 'tts_models/es/css10/vits',\n",
              " 'tts_models/fr/mai/tacotron2-DDC',\n",
              " 'tts_models/fr/css10/vits',\n",
              " 'tts_models/uk/mai/glow-tts',\n",
              " 'tts_models/uk/mai/vits',\n",
              " 'tts_models/zh-CN/baker/tacotron2-DDC-GST',\n",
              " 'tts_models/nl/mai/tacotron2-DDC',\n",
              " 'tts_models/nl/css10/vits',\n",
              " 'tts_models/de/thorsten/tacotron2-DCA',\n",
              " 'tts_models/de/thorsten/vits',\n",
              " 'tts_models/de/thorsten/tacotron2-DDC',\n",
              " 'tts_models/de/css10/vits-neon',\n",
              " 'tts_models/ja/kokoro/tacotron2-DDC',\n",
              " 'tts_models/tr/common-voice/glow-tts',\n",
              " 'tts_models/it/mai_female/glow-tts',\n",
              " 'tts_models/it/mai_female/vits',\n",
              " 'tts_models/it/mai_male/glow-tts',\n",
              " 'tts_models/it/mai_male/vits',\n",
              " 'tts_models/ewe/openbible/vits',\n",
              " 'tts_models/hau/openbible/vits',\n",
              " 'tts_models/lin/openbible/vits',\n",
              " 'tts_models/tw_akuapem/openbible/vits',\n",
              " 'tts_models/tw_asante/openbible/vits',\n",
              " 'tts_models/yor/openbible/vits',\n",
              " 'tts_models/hu/css10/vits',\n",
              " 'tts_models/el/cv/vits',\n",
              " 'tts_models/fi/css10/vits',\n",
              " 'tts_models/hr/cv/vits',\n",
              " 'tts_models/lt/cv/vits',\n",
              " 'tts_models/lv/cv/vits',\n",
              " 'tts_models/mt/cv/vits',\n",
              " 'tts_models/pl/mai_female/vits',\n",
              " 'tts_models/pt/cv/vits',\n",
              " 'tts_models/ro/cv/vits',\n",
              " 'tts_models/sk/cv/vits',\n",
              " 'tts_models/sl/cv/vits',\n",
              " 'tts_models/sv/cv/vits',\n",
              " 'tts_models/ca/custom/vits',\n",
              " 'tts_models/fa/custom/glow-tts']"
            ]
          },
          "metadata": {},
          "execution_count": 5
        }
      ]
    },
    {
      "cell_type": "code",
      "source": [
        "model_name=TTS.list_models()[9]\n",
        "tts = TTS(model_name)"
      ],
      "metadata": {
        "colab": {
          "base_uri": "https://localhost:8080/"
        },
        "id": "JaOwmRogq4Gv",
        "outputId": "c83a582e-8594-4a3e-cfad-fc3eb8f16fe0"
      },
      "execution_count": 6,
      "outputs": [
        {
          "output_type": "stream",
          "name": "stdout",
          "text": [
            " > tts_models/en/ljspeech/glow-tts is already downloaded.\n",
            " > vocoder_models/en/ljspeech/multiband-melgan is already downloaded.\n",
            " > Using model: glow_tts\n",
            " > Setting up Audio Processor...\n",
            " | > sample_rate:22050\n",
            " | > resample:False\n",
            " | > num_mels:80\n",
            " | > log_func:np.log10\n",
            " | > min_level_db:-100\n",
            " | > frame_shift_ms:None\n",
            " | > frame_length_ms:None\n",
            " | > ref_level_db:0\n",
            " | > fft_size:1024\n",
            " | > power:1.1\n",
            " | > preemphasis:0.0\n",
            " | > griffin_lim_iters:60\n",
            " | > signal_norm:False\n",
            " | > symmetric_norm:True\n",
            " | > mel_fmin:50.0\n",
            " | > mel_fmax:7600.0\n",
            " | > pitch_fmin:1.0\n",
            " | > pitch_fmax:640.0\n",
            " | > spec_gain:1.0\n",
            " | > stft_pad_mode:reflect\n",
            " | > max_norm:1.0\n",
            " | > clip_norm:True\n",
            " | > do_trim_silence:True\n",
            " | > trim_db:60\n",
            " | > do_sound_norm:False\n",
            " | > do_amp_to_db_linear:True\n",
            " | > do_amp_to_db_mel:True\n",
            " | > do_rms_norm:False\n",
            " | > db_level:None\n",
            " | > stats_path:None\n",
            " | > base:10\n",
            " | > hop_length:256\n",
            " | > win_length:1024\n",
            " > Vocoder Model: multiband_melgan\n",
            " > Setting up Audio Processor...\n",
            " | > sample_rate:22050\n",
            " | > resample:False\n",
            " | > num_mels:80\n",
            " | > log_func:np.log10\n",
            " | > min_level_db:-100\n",
            " | > frame_shift_ms:None\n",
            " | > frame_length_ms:None\n",
            " | > ref_level_db:0\n",
            " | > fft_size:1024\n",
            " | > power:1.5\n",
            " | > preemphasis:0.0\n",
            " | > griffin_lim_iters:60\n",
            " | > signal_norm:True\n",
            " | > symmetric_norm:True\n",
            " | > mel_fmin:50.0\n",
            " | > mel_fmax:7600.0\n",
            " | > pitch_fmin:0.0\n",
            " | > pitch_fmax:640.0\n",
            " | > spec_gain:1.0\n",
            " | > stft_pad_mode:reflect\n",
            " | > max_norm:4.0\n",
            " | > clip_norm:True\n",
            " | > do_trim_silence:True\n",
            " | > trim_db:60\n",
            " | > do_sound_norm:False\n",
            " | > do_amp_to_db_linear:True\n",
            " | > do_amp_to_db_mel:True\n",
            " | > do_rms_norm:False\n",
            " | > db_level:None\n",
            " | > stats_path:/root/.local/share/tts/vocoder_models--en--ljspeech--multiband-melgan/scale_stats.npy\n",
            " | > base:10\n",
            " | > hop_length:256\n",
            " | > win_length:1024\n",
            " > Generator Model: multiband_melgan_generator\n",
            " > Discriminator Model: melgan_multiscale_discriminator\n"
          ]
        }
      ]
    },
    {
      "cell_type": "code",
      "source": [
        "model = whisper.load_model(\"medium\")"
      ],
      "metadata": {
        "id": "st3oQvj1wlBt"
      },
      "execution_count": 7,
      "outputs": []
    },
    {
      "cell_type": "code",
      "source": [
        "openai.api_key = 'sk-xxxx'"
      ],
      "metadata": {
        "id": "BVF970iFwlFq"
      },
      "execution_count": 8,
      "outputs": []
    },
    {
      "cell_type": "code",
      "source": [
        "def voice_chat(user_voice):\n",
        "  messages = [{\"role\":\"system\",\"content\":\"You are a kind helpful assistant\"}]\n",
        "  user_message = model.transcribe(user_voice)[\"text\"]\n",
        "  messages.append({\"role\":\"user\",\"content\":user_message})\n",
        "  print(messages)\n",
        "  chat = openai.ChatCompletion.create(model=\"gpt-3.5-turbo\",messages=messages)\n",
        "  reply = chat.choices[0].message.content\n",
        "  messages.append({\"role\":\"Assistant\",\"content\":reply})\n",
        "  tts.tts_to_file(text=reply,file_path=\"output.wav\")\n",
        "  return (reply,'output.wav')"
      ],
      "metadata": {
        "id": "62saBejOwlIw"
      },
      "execution_count": 9,
      "outputs": []
    },
    {
      "cell_type": "code",
      "source": [
        "text_reply = gr.Textbox(label = \"Chatgpt Text\")\n",
        "voice_reply = gr.Audio('output.wav')\n",
        "gr.Interface(title = 'AI Voice Assistant with Chatgpt',\n",
        "             fn=voice_chat,\n",
        "             inputs=[gr.inputs.Audio(source=\"microphone\", type=\"filepath\")],\n",
        "             outputs=[text_reply, voice_reply],\n",
        "             live=True\n",
        "             ).launch(debug=True)\n"
      ],
      "metadata": {
        "colab": {
          "base_uri": "https://localhost:8080/",
          "height": 1000
        },
        "id": "nULIVegS3oIE",
        "outputId": "63cedeec-31a3-462f-c800-7181e3796f5a"
      },
      "execution_count": 10,
      "outputs": [
        {
          "output_type": "stream",
          "name": "stderr",
          "text": [
            "/usr/local/lib/python3.9/dist-packages/gradio/inputs.py:319: UserWarning: Usage of gradio.inputs is deprecated, and will not be supported in the future, please import your components from gradio.components\n",
            "  warnings.warn(\n",
            "/usr/local/lib/python3.9/dist-packages/gradio/deprecation.py:40: UserWarning: `optional` parameter is deprecated, and it has no effect\n",
            "  warnings.warn(value)\n"
          ]
        },
        {
          "output_type": "stream",
          "name": "stdout",
          "text": [
            "Colab notebook detected. This cell will run indefinitely so that you can see errors and logs. To turn off, set debug=False in launch().\n",
            "Note: opening Chrome Inspector may crash demo inside Colab notebooks.\n",
            "\n",
            "To create a public link, set `share=True` in `launch()`.\n"
          ]
        },
        {
          "output_type": "display_data",
          "data": {
            "text/plain": [
              "<IPython.core.display.Javascript object>"
            ],
            "application/javascript": [
              "(async (port, path, width, height, cache, element) => {\n",
              "                        if (!google.colab.kernel.accessAllowed && !cache) {\n",
              "                            return;\n",
              "                        }\n",
              "                        element.appendChild(document.createTextNode(''));\n",
              "                        const url = await google.colab.kernel.proxyPort(port, {cache});\n",
              "\n",
              "                        const external_link = document.createElement('div');\n",
              "                        external_link.innerHTML = `\n",
              "                            <div style=\"font-family: monospace; margin-bottom: 0.5rem\">\n",
              "                                Running on <a href=${new URL(path, url).toString()} target=\"_blank\">\n",
              "                                    https://localhost:${port}${path}\n",
              "                                </a>\n",
              "                            </div>\n",
              "                        `;\n",
              "                        element.appendChild(external_link);\n",
              "\n",
              "                        const iframe = document.createElement('iframe');\n",
              "                        iframe.src = new URL(path, url).toString();\n",
              "                        iframe.height = height;\n",
              "                        iframe.allow = \"autoplay; camera; microphone; clipboard-read; clipboard-write;\"\n",
              "                        iframe.width = width;\n",
              "                        iframe.style.border = 0;\n",
              "                        element.appendChild(iframe);\n",
              "                    })(7860, \"/\", \"100%\", 500, false, window.element)"
            ]
          },
          "metadata": {}
        },
        {
          "output_type": "stream",
          "name": "stderr",
          "text": [
            "/usr/local/lib/python3.9/dist-packages/gradio/processing_utils.py:242: UserWarning: Trying to convert audio automatically from int32 to 16-bit int format.\n",
            "  warnings.warn(warning.format(data.dtype))\n"
          ]
        },
        {
          "output_type": "stream",
          "name": "stdout",
          "text": [
            "[{'role': 'system', 'content': 'You are a kind helpful assistant'}, {'role': 'user', 'content': ' veris que'}]\n",
            " > Text splitted to sentences.\n",
            "['¡Claro que sí!', '¿En qué puedo ayudarte hoy?']\n",
            "¡!\n",
            " [!] Character '¡' not found in the vocabulary. Discarding it.\n",
            "¿?\n",
            " [!] Character '¿' not found in the vocabulary. Discarding it.\n",
            " > Processing time: 0.9821898937225342\n",
            " > Real-time factor: 0.8124732576748904\n"
          ]
        },
        {
          "output_type": "stream",
          "name": "stderr",
          "text": [
            "/usr/local/lib/python3.9/dist-packages/gradio/processing_utils.py:242: UserWarning: Trying to convert audio automatically from int32 to 16-bit int format.\n",
            "  warnings.warn(warning.format(data.dtype))\n"
          ]
        },
        {
          "output_type": "stream",
          "name": "stdout",
          "text": [
            "[{'role': 'system', 'content': 'You are a kind helpful assistant'}, {'role': 'user', 'content': ' Where is India?'}]\n",
            " > Text splitted to sentences.\n",
            "['India is a country located in the southern part of Asia.', 'It is bordered by countries such as Pakistan to the northwest, China and Nepal to the north, Bhutan to the northeast, Bangladesh and Myanmar to the east.', 'India also shares its southern coastline with the Indian Ocean, and is bounded by the Arabian Sea to the west and the Bay of Bengal to the east.']\n",
            "ɪt ɪz bɔɹdɚd baɪ kʌntɹiz sʌt͡ʃ æz pækɪstæn tə ðə nɔɹθwɛst, t͡ʃaɪnə ænd nəpɔl tə ðə nɔɹθ, butæn tə ðə nɔɹθist, bæŋlədɛʃ ænd mjɑnmɑɹ tə ðə ist.\n",
            " [!] Character '͡' not found in the vocabulary. Discarding it.\n",
            " > Processing time: 4.842541933059692\n",
            " > Real-time factor: 0.18594154806212948\n",
            "Keyboard interruption in main thread... closing server.\n"
          ]
        },
        {
          "output_type": "execute_result",
          "data": {
            "text/plain": []
          },
          "metadata": {},
          "execution_count": 10
        }
      ]
    },
    {
      "cell_type": "code",
      "source": [],
      "metadata": {
        "id": "QIChPI9o3oQG"
      },
      "execution_count": 10,
      "outputs": []
    }
  ]
}